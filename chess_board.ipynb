{
 "cells": [
  {
   "cell_type": "code",
   "execution_count": 246,
   "source": [
    "import numpy as np\n",
    "import matplotlib.pylab as plt"
   ],
   "outputs": [],
   "metadata": {}
  },
  {
   "cell_type": "code",
   "execution_count": 247,
   "source": [
    "class Board:\n",
    "    def __init__(self):\n",
    "        self.red=[]\n",
    "        self.blue=[]\n",
    "        self.grid=np.zeros((8,8,3),plt.float64)\n",
    "        i=1\n",
    "        for row in range(8):\n",
    "         i=0 if i else 1\n",
    "         for column in range(8):\n",
    "            if row%2 == i and column%2==i:\n",
    "                    self.grid[row][column]=(1,1,1)\n",
    "     \n",
    "    def render(self):\n",
    "        plt.imshow(self.grid)\n",
    "        \n",
    "    def add_red(self,row,col):\n",
    "        self.red=[row,col]\n",
    "        self.grid[row][col]=(1,0,0)\n",
    "       \n",
    "\n",
    "\n",
    "    def add_blue(self,row,col):\n",
    "        self.blue=[row,col]\n",
    "        self.grid[row][col]=(0,1,1)\n",
    "      \n",
    "\n",
    "    def is_under_attak(self):\n",
    "        if self.red[0]==self.blue[0]:\n",
    "            return True\n",
    "        if self.red[1]==self.blue[1]:\n",
    "            return True\n",
    "        if  abs(self.red[1]-self.blue[0])==abs(self.red[1]-self.blue[1]):\n",
    "            return True\n",
    "        return False\n",
    "\n"
   ],
   "outputs": [],
   "metadata": {}
  },
  {
   "cell_type": "code",
   "execution_count": 248,
   "source": [
    "\n",
    "i=Board()\n",
    "\n",
    "i.add_red(0,0)\n",
    "i.add_blue(6,6)\n",
    "i.render()"
   ],
   "outputs": [
    {
     "output_type": "display_data",
     "data": {
      "text/plain": [
       "<Figure size 432x288 with 1 Axes>"
      ],
      "image/png": "[encoded data removed]"
     },
     "metadata": {
      "needs_background": "light"
     }
    }
   ],
   "metadata": {}
  },
  {
   "cell_type": "code",
   "execution_count": 249,
   "source": [
    "def test_attak():\n",
    "    board=Board()\n",
    "    board.add_red(0,0)\n",
    "    board.add_blue(6,0)\n",
    "    actual=board.is_under_attak()\n",
    "    expected=True\n",
    "    assert actual==expected\n",
    "    print ('pass')"
   ],
   "outputs": [],
   "metadata": {}
  },
  {
   "cell_type": "code",
   "execution_count": 250,
   "source": [
    "def test_attak1():\n",
    "    board=Board()\n",
    "    board.add_red(0,0)\n",
    "    board.add_blue(0,6)\n",
    "    actual=board.is_under_attak()\n",
    "    expected=True\n",
    "    assert actual==expected\n",
    "    print ('pass')"
   ],
   "outputs": [],
   "metadata": {}
  },
  {
   "cell_type": "code",
   "execution_count": 251,
   "source": [
    "def test_attak2():\n",
    "    board=Board()\n",
    "    board.add_red(0,0)\n",
    "    board.add_blue(6,6)\n",
    "    actual=board.is_under_attak()\n",
    "    expected=True\n",
    "    assert actual==expected\n",
    "    print ('pass')"
   ],
   "outputs": [],
   "metadata": {}
  },
  {
   "cell_type": "code",
   "execution_count": 253,
   "source": [
    "test_attak()\n",
    "test_attak1()\n",
    "test_attak2()"
   ],
   "outputs": [
    {
     "output_type": "stream",
     "name": "stdout",
     "text": [
      "pass\n",
      "pass\n",
      "pass\n"
     ]
    }
   ],
   "metadata": {}
  }
 ],
 "metadata": {
  "orig_nbformat": 4,
  "language_info": {
   "name": "python",
   "version": "3.9.6",
   "mimetype": "text/x-python",
   "codemirror_mode": {
    "name": "ipython",
    "version": 3
   },
   "pygments_lexer": "ipython3",
   "nbconvert_exporter": "python",
   "file_extension": ".py"
  },
  "kernelspec": {
   "name": "python3",
   "display_name": "Python 3.9.6 64-bit ('.venv': poetry)"
  },
  "interpreter": {
   "hash": "a40be22a356cfadf05d4363797d1ca01afadd544aa1b2fbc83ad0420418d0a50"
  }
 },
 "nbformat": 4,
 "nbformat_minor": 2
}